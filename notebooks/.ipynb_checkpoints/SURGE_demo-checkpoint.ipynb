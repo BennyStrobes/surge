{
 "cells": [
  {
   "cell_type": "code",
   "execution_count": 1,
   "metadata": {},
   "outputs": [
    {
     "ename": "ModuleNotFoundError",
     "evalue": "No module named 'surge'",
     "output_type": "error",
     "traceback": [
      "\u001b[0;31m---------------------------------------------------------------------------\u001b[0m",
      "\u001b[0;31mModuleNotFoundError\u001b[0m                       Traceback (most recent call last)",
      "\u001b[0;32m<ipython-input-1-7215fc1655d6>\u001b[0m in \u001b[0;36m<module>\u001b[0;34m\u001b[0m\n\u001b[1;32m      1\u001b[0m \u001b[0;32mimport\u001b[0m \u001b[0mnumpy\u001b[0m \u001b[0;32mas\u001b[0m \u001b[0mnp\u001b[0m\u001b[0;34m\u001b[0m\u001b[0;34m\u001b[0m\u001b[0m\n\u001b[0;32m----> 2\u001b[0;31m \u001b[0;32mimport\u001b[0m \u001b[0msurge\u001b[0m\u001b[0;34m\u001b[0m\u001b[0;34m\u001b[0m\u001b[0m\n\u001b[0m",
      "\u001b[0;31mModuleNotFoundError\u001b[0m: No module named 'surge'"
     ]
    }
   ],
   "source": [
    "import numpy as np\n",
    "import surge"
   ]
  },
  {
   "cell_type": "code",
   "execution_count": null,
   "metadata": {},
   "outputs": [],
   "source": [
    "def get_genotype_vec(num_samples, af):\n",
    "    allele1 = np.random.binomial(n=1, p=af,size=num_samples)\n",
    "    allele2 = np.random.binomial(n=1, p=af,size=num_samples)\n",
    "    genotype_vec = allele1 + allele2\n",
    "    return genotype_vec\n",
    "\n",
    "def generate_eqtl_factorization_data_with_no_sample_repeat(num_samples, num_tests, num_components, t_statistic, missingness_fraction):\n",
    "    # Simulate genotype\n",
    "    G = np.zeros((num_samples, num_tests))\n",
    "    G_raw = np.zeros((num_samples, num_tests))\n",
    "    for test_num in range(num_tests):\n",
    "        af = np.random.uniform(.1,.9)\n",
    "        # Get genotype for this particular snp\n",
    "        genotype_vec = get_genotype_vec(num_samples, af)\n",
    "        G_raw[:, test_num] = genotype_vec\n",
    "        # Standardized genotype\n",
    "        G[:, test_num] = (genotype_vec - np.mean(genotype_vec))/np.std(genotype_vec)\n",
    "\n",
    "    # Simulate U\n",
    "    U = np.random.standard_normal(size=(num_samples, num_components))\n",
    "    for component_num in range(num_components):\n",
    "        U[:, component_num] = (U[:, component_num] - np.mean(U[:, component_num]))/np.std(U[:, component_num])\n",
    "    \n",
    "    # Simulate V\n",
    "    V = np.random.normal(loc=0.0, scale=t_statistic, size=(num_components, num_tests))\n",
    "    # Add missingness to V\n",
    "    for test_num in range(num_tests):\n",
    "        for component_num in range(num_components):\n",
    "            V[component_num, test_num] = V[component_num, test_num]*np.random.binomial(n=1,p=missingness_fraction)\n",
    "\n",
    "    # Get Expected expression value of each (sample, gene) pair\n",
    "    predicted_mean = np.zeros((num_samples, num_tests))  + G*np.dot(U,V)\n",
    "    # Simulate genotype fixed effect size\n",
    "    betas = []\n",
    "    Y = np.zeros((num_samples, num_tests))\n",
    "    for test_num in range(num_tests):\n",
    "        beta = np.random.normal(loc=0.0, scale=.1)\n",
    "        predicted_mean[:, test_num] = predicted_mean[:, test_num] + G[:, test_num]*beta\n",
    "        Y[:, test_num] = np.random.normal(predicted_mean[:,test_num])\n",
    "        betas.append(beta)\n",
    "    \n",
    "    # Standardized Y\n",
    "    for test_num in range(num_tests):\n",
    "        Y[:, test_num] = (Y[:, test_num] - np.mean(Y[:, test_num]))/np.std(Y[:, test_num])\n",
    "    return Y, G, np.asarray(betas), U, V\n"
   ]
  }
 ],
 "metadata": {
  "kernelspec": {
   "display_name": "Python 3",
   "language": "python",
   "name": "python3"
  },
  "language_info": {
   "codemirror_mode": {
    "name": "ipython",
    "version": 3
   },
   "file_extension": ".py",
   "mimetype": "text/x-python",
   "name": "python",
   "nbconvert_exporter": "python",
   "pygments_lexer": "ipython3",
   "version": "3.7.1"
  }
 },
 "nbformat": 4,
 "nbformat_minor": 2
}
