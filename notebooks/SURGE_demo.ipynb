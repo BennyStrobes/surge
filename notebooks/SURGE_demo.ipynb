{
 "cells": [
  {
   "cell_type": "markdown",
   "metadata": {},
   "source": [
    "# SURGE Demo\n",
    "\n",
    "Here, we simulate some data eQTL data (where the eQTL effect sizes change as function context) and assess SURGE's ability to re-capture the uknown contexts.\n",
    "\n",
    "This notebook should also provide an example of how SURGE can be easily run within python."
   ]
  },
  {
   "cell_type": "code",
   "execution_count": 25,
   "metadata": {},
   "outputs": [],
   "source": [
    "import numpy as np\n",
    "import surge_inference\n",
    "import matplotlib.pyplot as plt\n",
    "import seaborn as sns\n",
    "from sklearn.linear_model import LinearRegression"
   ]
  },
  {
   "cell_type": "markdown",
   "metadata": {},
   "source": [
    "## Simulate some data\n",
    "\n",
    "To assess SURGE's ability to accurately capture contexts underlying context-specific eQTLs, we perform the following simulation experiment:\n",
    "\n",
    "We randomly generated genotype and expression matrices across $T$ variant-gene-pairs and $N$ RNA samples. For each simulated variant-gene pair, we simulated the genotype vector ($G$) across the $N$ samples according to the following probability distributions:\n",
    "\n",
    "$af_n \\sim Uniform(.1,.9)$\n",
    "\n",
    "$G_n \\sim Binomial(2, af_n)$\n",
    "\n",
    "Then we standardized genotype to have mean 0 and variance 1. We call the standardized genotype in the nth sample $G^*_n$\n",
    "\n",
    "Next, we simulated the expression vector (y) across the $N$ samples using the following probability distributions (conditional on the simulated standardized genotype):\n",
    "\n",
    "$y_n \\sim N(\\mu + \\beta G^*_n +\\sum_k G^*_n *U_{nk} V_k \\theta_k, 1)$\n",
    "\n",
    "$\\mu \\sim N(0,1)$\n",
    "\n",
    "$\\beta \\sim N(0,1)$\n",
    "\n",
    "$U_{nk} \\sim N(0,1)$\n",
    "\n",
    "$V_k \\sim N(0, \\gamma)$\n",
    "\n",
    "$\\theta_k \\sim Bernoulli(p)$\n",
    "\n",
    "\n",
    "\n",
    "This simulation, therefor, evaluates SURGE's ability to re-capture the simulated latent contexts (U) as a function of the simulation hyper-parameters:\n",
    "- The number of latent contexts (K; num_components)\n",
    "- The sample size (N; num_samples)\n",
    "- The strength of the interaction terms ($\\gamma$, t_statistic)\n",
    "- The fraction of tests that are context-specific eQTLs for a particular context ($p$; missingness_fraction)\n",
    "\n",
    "\n"
   ]
  },
  {
   "cell_type": "code",
   "execution_count": 2,
   "metadata": {},
   "outputs": [],
   "source": [
    "# Generate genotype vector for a particular snp\n",
    "def get_genotype_vec(num_samples, af):\n",
    "    allele1 = np.random.binomial(n=1, p=af,size=num_samples)\n",
    "    allele2 = np.random.binomial(n=1, p=af,size=num_samples)\n",
    "    genotype_vec = allele1 + allele2\n",
    "    return genotype_vec\n",
    "\n",
    "# Generate gene expression data (Y), and genotype data (G)\n",
    "def generate_eqtl_factorization_data_with_no_sample_repeat(num_samples, num_tests, num_components, t_statistic, missingness_fraction):\n",
    "    # Simulate genotype\n",
    "    G = np.zeros((num_samples, num_tests))\n",
    "    G_raw = np.zeros((num_samples, num_tests))\n",
    "    for test_num in range(num_tests):\n",
    "        af = np.random.uniform(.1,.9)\n",
    "        # Get genotype for this particular snp\n",
    "        genotype_vec = get_genotype_vec(num_samples, af)\n",
    "        G_raw[:, test_num] = genotype_vec\n",
    "        # Standardized genotype\n",
    "        G[:, test_num] = (genotype_vec - np.mean(genotype_vec))/np.std(genotype_vec)\n",
    "\n",
    "    # Simulate U\n",
    "    U = np.random.standard_normal(size=(num_samples, num_components))\n",
    "    for component_num in range(num_components):\n",
    "        U[:, component_num] = (U[:, component_num] - np.mean(U[:, component_num]))/np.std(U[:, component_num])\n",
    "    \n",
    "    # Simulate V\n",
    "    V = np.random.normal(loc=0.0, scale=t_statistic, size=(num_components, num_tests))\n",
    "    # Add missingness to V\n",
    "    for test_num in range(num_tests):\n",
    "        for component_num in range(num_components):\n",
    "            V[component_num, test_num] = V[component_num, test_num]*np.random.binomial(n=1,p=missingness_fraction)\n",
    "\n",
    "    # Get Expected expression value of each (sample, gene) pair\n",
    "    predicted_mean = np.zeros((num_samples, num_tests))  + G*np.dot(U,V)\n",
    "    # Simulate genotype fixed effect size\n",
    "    betas = []\n",
    "    Y = np.zeros((num_samples, num_tests))\n",
    "    for test_num in range(num_tests):\n",
    "        beta = np.random.normal(loc=0.0, scale=.1)\n",
    "        predicted_mean[:, test_num] = predicted_mean[:, test_num] + G[:, test_num]*beta\n",
    "        Y[:, test_num] = np.random.normal(predicted_mean[:,test_num])\n",
    "        betas.append(beta)\n",
    "    \n",
    "    # Standardized Y\n",
    "    for test_num in range(num_tests):\n",
    "        Y[:, test_num] = (Y[:, test_num] - np.mean(Y[:, test_num]))/np.std(Y[:, test_num])\n",
    "    return Y, G, np.asarray(betas), U, V\n"
   ]
  },
  {
   "cell_type": "code",
   "execution_count": 19,
   "metadata": {},
   "outputs": [],
   "source": [
    "# Simulation parameters\n",
    "num_samples = 250\n",
    "num_tests=1000\n",
    "t_statistic = .75\n",
    "missingness_fraction = .3\n",
    "simulated_factor = 5\n",
    "np.random.seed(2)\n",
    "\n",
    "# Simulate the data\n",
    "Y, G, betas, U_sim, V_sim = generate_eqtl_factorization_data_with_no_sample_repeat(num_samples, num_tests, simulated_factor, t_statistic, missingness_fraction)\n",
    "\n"
   ]
  },
  {
   "cell_type": "markdown",
   "metadata": {},
   "source": [
    "## Run SURGE\n",
    "\n",
    "At this point we have successfully simulated eQTL data. Notably we have generated an standardized expression matrix ($Y$) of dimension $N$X$T$ and we have generated a standardized genotype matrix ($G^*$) of dimension $N$X$T$. The $t^{th}$ column of $Y$ reflects the gene corresponding to the $t^{th}$ variant-gene pair. The $t^{th}$ column of $G$ reflects the variant corresponding to the $t^{th}$ variant-gene pair. Notably, each column of $Y$ has mean 0 and stardard deviation 1. Additionally, each column of $G$ has mean 0 and standard deviation 1.\n",
    "\n",
    "Using this simulated data, we can run SURGE to re-discover the simulated contexts.\n",
    "\n",
    "It is important to note that this simulated expression was not affected by covariates nor was simulated expression affected by sample repeat structure . Therefore, we ran we ran SURGE:\n",
    "- We did not model the effects of covariates on gene expression in SURGE. However, covariates could be easily included by changing cov into a matrix that contains a column for each covariate (as well as column corresponding to the intercept). \n",
    "- We did not model the effects of sample repeat structure on gene expression in SURGE. However, sample repeat structure could easily be included by setting `re_boolean=True`, and by including `z=sample_repeat` as an arguement in `fit`. `sample_repeat` is a vector of length $N$ where each element is an integer corresponding to the individual that sample came from."
   ]
  },
  {
   "cell_type": "code",
   "execution_count": 20,
   "metadata": {},
   "outputs": [
    {
     "name": "stdout",
     "output_type": "stream",
     "text": [
      "*********************************************************\n",
      "SURGE\n",
      "Single cell Unsupervised Regulation of Gene Expression\n",
      "*********************************************************\n",
      "###############################\n",
      "Initialize variables\n",
      "###############################\n",
      "250 samples detected\n",
      "1000 tests detected\n",
      "10 latent factors detected\n",
      "###############################\n",
      "Begin Coordinate ascent variational inference (CAVI) iterative algorithm\n",
      "###############################\n",
      "Variational Inference iteration: 0\n",
      "delta ELBO: 129431775.65202913\n",
      "Variational Inference iteration: 1\n",
      "delta ELBO: 29798.386386387458\n",
      "Variational Inference iteration: 2\n",
      "delta ELBO: 13840.992208941607\n",
      "Variational Inference iteration: 3\n",
      "delta ELBO: 1228.260650450131\n",
      "Variational Inference iteration: 4\n",
      "delta ELBO: 580.1020722674439\n",
      "Variational Inference iteration: 5\n",
      "delta ELBO: 5160.318474972562\n",
      "Variational Inference iteration: 6\n",
      "delta ELBO: 323.85973606217885\n",
      "Variational Inference iteration: 7\n",
      "delta ELBO: 251.49589751369786\n",
      "Variational Inference iteration: 8\n",
      "delta ELBO: 208.4763235312421\n",
      "Variational Inference iteration: 9\n",
      "delta ELBO: 180.14542005222756\n",
      "Variational Inference iteration: 10\n",
      "delta ELBO: 164.55989705910906\n",
      "Variational Inference iteration: 11\n",
      "delta ELBO: 156.94929915625835\n",
      "Variational Inference iteration: 12\n",
      "delta ELBO: 151.63680475600995\n",
      "Variational Inference iteration: 13\n",
      "delta ELBO: 144.66619889839785\n",
      "Variational Inference iteration: 14\n",
      "delta ELBO: 135.9974043747643\n",
      "Variational Inference iteration: 15\n",
      "delta ELBO: 129.53895791101968\n",
      "Variational Inference iteration: 16\n",
      "delta ELBO: 128.82310496130958\n",
      "Variational Inference iteration: 17\n",
      "delta ELBO: 133.14830318640452\n",
      "Variational Inference iteration: 18\n",
      "delta ELBO: 139.38313317723805\n",
      "Variational Inference iteration: 19\n",
      "delta ELBO: 145.7160203483072\n",
      "Variational Inference iteration: 20\n",
      "delta ELBO: 150.96923879807582\n",
      "Variational Inference iteration: 21\n",
      "delta ELBO: 152.22067507606698\n",
      "Variational Inference iteration: 22\n",
      "delta ELBO: 146.81368008139543\n",
      "Variational Inference iteration: 23\n",
      "delta ELBO: 135.99661158851814\n",
      "Variational Inference iteration: 24\n",
      "delta ELBO: 124.34461559483316\n",
      "Variational Inference iteration: 25\n",
      "delta ELBO: 115.12532931793248\n",
      "Variational Inference iteration: 26\n",
      "delta ELBO: 108.1335019444814\n",
      "Variational Inference iteration: 27\n",
      "delta ELBO: 101.48355902876938\n",
      "Variational Inference iteration: 28\n",
      "delta ELBO: 93.82876765879337\n",
      "Variational Inference iteration: 29\n",
      "delta ELBO: 84.86237545323092\n",
      "Variational Inference iteration: 30\n",
      "delta ELBO: 74.11282472376479\n",
      "Variational Inference iteration: 31\n",
      "delta ELBO: 61.45764891145518\n",
      "Variational Inference iteration: 32\n",
      "delta ELBO: 48.577272076683585\n",
      "Variational Inference iteration: 33\n",
      "delta ELBO: 37.58184323634487\n",
      "Variational Inference iteration: 34\n",
      "delta ELBO: 28.825917473761365\n",
      "Variational Inference iteration: 35\n",
      "delta ELBO: 21.738096107263118\n",
      "Variational Inference iteration: 36\n",
      "delta ELBO: 16.59829681442352\n",
      "Variational Inference iteration: 37\n",
      "delta ELBO: 13.807089271198492\n",
      "Variational Inference iteration: 38\n",
      "delta ELBO: 12.989078102749772\n",
      "Variational Inference iteration: 39\n",
      "delta ELBO: 13.471041195560247\n",
      "Variational Inference iteration: 40\n",
      "delta ELBO: 14.477026304753963\n",
      "Variational Inference iteration: 41\n",
      "delta ELBO: 14.836000481445808\n",
      "Variational Inference iteration: 42\n",
      "delta ELBO: 13.420801017724443\n",
      "Variational Inference iteration: 43\n",
      "delta ELBO: 10.571943140705116\n",
      "Variational Inference iteration: 44\n",
      "delta ELBO: 7.950092670507729\n",
      "Variational Inference iteration: 45\n",
      "delta ELBO: 6.5318871038616635\n",
      "Variational Inference iteration: 46\n",
      "delta ELBO: 6.21466660121223\n",
      "Variational Inference iteration: 47\n",
      "delta ELBO: 6.699883554538246\n",
      "Variational Inference iteration: 48\n",
      "delta ELBO: 7.812665768957231\n",
      "Variational Inference iteration: 49\n",
      "delta ELBO: 9.293557701050304\n",
      "Variational Inference iteration: 50\n",
      "delta ELBO: 10.471231626812369\n",
      "Variational Inference iteration: 51\n",
      "delta ELBO: 10.29249278275529\n",
      "Variational Inference iteration: 52\n",
      "delta ELBO: 8.313535498047713\n",
      "Variational Inference iteration: 53\n",
      "delta ELBO: 5.567876348446589\n",
      "Variational Inference iteration: 54\n",
      "delta ELBO: 3.392909051384777\n",
      "Variational Inference iteration: 55\n",
      "delta ELBO: 2.1055439830524847\n",
      "Variational Inference iteration: 56\n",
      "delta ELBO: 1.397984163777437\n",
      "Variational Inference iteration: 57\n",
      "delta ELBO: 0.9864016618812457\n",
      "Variational Inference iteration: 58\n",
      "delta ELBO: 0.7286353186937049\n",
      "Variational Inference iteration: 59\n",
      "delta ELBO: 0.5590786963002756\n",
      "Variational Inference iteration: 60\n",
      "delta ELBO: 0.4437399668386206\n",
      "Variational Inference iteration: 61\n",
      "delta ELBO: 0.3628965410753153\n",
      "Variational Inference iteration: 62\n",
      "delta ELBO: 0.30444757820805535\n",
      "Variational Inference iteration: 63\n",
      "delta ELBO: 0.2607918055728078\n",
      "Variational Inference iteration: 64\n",
      "delta ELBO: 0.2270951725076884\n",
      "Variational Inference iteration: 65\n",
      "delta ELBO: 0.20025430771056563\n",
      "Variational Inference iteration: 66\n",
      "delta ELBO: 0.17825766862370074\n",
      "Variational Inference iteration: 67\n",
      "delta ELBO: 0.1597865363000892\n",
      "Variational Inference iteration: 68\n",
      "delta ELBO: 0.14396402711281553\n",
      "Variational Inference iteration: 69\n",
      "delta ELBO: 0.1301965196034871\n",
      "Variational Inference iteration: 70\n",
      "delta ELBO: 0.11807316273916513\n",
      "Variational Inference iteration: 71\n",
      "delta ELBO: 0.10730202362174168\n",
      "Variational Inference iteration: 72\n",
      "delta ELBO: 0.09766940568806604\n",
      "Variational Inference iteration: 73\n",
      "delta ELBO: 0.08901383570628241\n",
      "Variational Inference iteration: 74\n",
      "delta ELBO: 0.08120935573242605\n",
      "Variational Inference iteration: 75\n",
      "delta ELBO: 0.07415471907006577\n",
      "Variational Inference iteration: 76\n",
      "delta ELBO: 0.06776634464040399\n",
      "Variational Inference iteration: 77\n",
      "delta ELBO: 0.061973665200639516\n",
      "Variational Inference iteration: 78\n",
      "delta ELBO: 0.05671601148787886\n",
      "Variational Inference iteration: 79\n",
      "delta ELBO: 0.05194047896657139\n",
      "Variational Inference iteration: 80\n",
      "delta ELBO: 0.04760043724672869\n",
      "Variational Inference iteration: 81\n",
      "delta ELBO: 0.043654454697389156\n",
      "Variational Inference iteration: 82\n",
      "delta ELBO: 0.040065501641947776\n",
      "Variational Inference iteration: 83\n",
      "delta ELBO: 0.03680034034186974\n",
      "Variational Inference iteration: 84\n",
      "delta ELBO: 0.033829042105935514\n",
      "Variational Inference iteration: 85\n",
      "delta ELBO: 0.031124595960136503\n",
      "Variational Inference iteration: 86\n",
      "delta ELBO: 0.02866258326685056\n",
      "Variational Inference iteration: 87\n",
      "delta ELBO: 0.026420900830999017\n",
      "Variational Inference iteration: 88\n",
      "delta ELBO: 0.02437952219042927\n",
      "Variational Inference iteration: 89\n",
      "delta ELBO: 0.02252028905786574\n",
      "Variational Inference iteration: 90\n",
      "delta ELBO: 0.020826727792154998\n",
      "Variational Inference iteration: 91\n",
      "delta ELBO: 0.019283886009361595\n",
      "Variational Inference iteration: 92\n",
      "delta ELBO: 0.01787818648153916\n",
      "Variational Inference iteration: 93\n",
      "delta ELBO: 0.01659729704260826\n",
      "Variational Inference iteration: 94\n",
      "delta ELBO: 0.015430013067089021\n",
      "Variational Inference iteration: 95\n",
      "delta ELBO: 0.014366151473950595\n",
      "Variational Inference iteration: 96\n",
      "delta ELBO: 0.013396455615293235\n",
      "Variational Inference iteration: 97\n",
      "delta ELBO: 0.012512509536463767\n",
      "Variational Inference iteration: 98\n",
      "delta ELBO: 0.011706659512128681\n",
      "Variational Inference iteration: 99\n",
      "delta ELBO: 0.010971944138873369\n",
      "Variational Inference iteration: 100\n",
      "delta ELBO: 0.010302030306775123\n",
      "Variational Inference iteration: 101\n",
      "delta ELBO: 0.009691155923064798\n",
      "###############################\n",
      "SURGE converged after 102 iterations.\n",
      "###############################\n"
     ]
    }
   ],
   "source": [
    "# Covariate matrix is just an intercept as there are no simulated covariates\n",
    "cov = np.ones((num_samples, 1))\n",
    "\n",
    "# Create SURGE object (w/ no sample repeat structure): \n",
    "surge_obj = surge_inference.SURGE_VI(K=10, re_boolean=False)\n",
    "surge_obj.fit(G=G, Y=Y, cov=cov)\n"
   ]
  },
  {
   "cell_type": "markdown",
   "metadata": {},
   "source": [
    "## Visualize learned SURGE latent contexts\n",
    "\n",
    "SURGE optimization has converged. We can now visualize the results. \n",
    "\n",
    "First, we can examine the ELBO over variational iterations."
   ]
  },
  {
   "cell_type": "code",
   "execution_count": 21,
   "metadata": {},
   "outputs": [
    {
     "data": {
      "image/png": "[encoded data removed]",
      "text/plain": [
       "<Figure size 432x288 with 1 Axes>"
      ]
     },
     "metadata": {
      "needs_background": "light"
     },
     "output_type": "display_data"
    }
   ],
   "source": [
    "# check to make sure ELBO is monotonically increasing (Note: ELBO is gauranteed to monotonically increase)\n",
    "plt.plot(surge_obj.elbo[1:]);  # Skipped first iteration in visualization b/c it is such a large change that it completely dominates the plot\n",
    "plt.xlabel('Iteration');\n",
    "plt.ylabel('ELBO');"
   ]
  },
  {
   "cell_type": "markdown",
   "metadata": {},
   "source": [
    "Plot PVE by each of SURGE latent contexts"
   ]
  },
  {
   "cell_type": "code",
   "execution_count": 22,
   "metadata": {},
   "outputs": [
    {
     "data": {
      "image/png": "[encoded data removed]",
      "text/plain": [
       "<Figure size 432x288 with 1 Axes>"
      ]
     },
     "metadata": {
      "needs_background": "light"
     },
     "output_type": "display_data"
    }
   ],
   "source": [
    "# Order SURGE contexts by PVE\n",
    "context_order = np.argsort(-surge_obj.factor_pve)\n",
    "# Plot PVE for each of latent contexts\n",
    "plt.plot(surge_obj.factor_pve[context_order], '-ok');\n",
    "plt.xlabel('Learned SURGE latent context');\n",
    "plt.ylabel('PVE');"
   ]
  },
  {
   "cell_type": "markdown",
   "metadata": {},
   "source": [
    "5 learned SURGE latent contenxts have non-zero PVE, whereas the other 5 SURGE latent contexts have approximately 0 PVE. This is expected given we simulated 5 latent contexts. \n",
    "\n",
    "Next, plot absolute correlation between learned SURGE latent contexts and simulated SURGE latent contexts. Here, we filter out non-informative learned latent contexts (ie those with PVE < 1e-4)."
   ]
  },
  {
   "cell_type": "code",
   "execution_count": 23,
   "metadata": {},
   "outputs": [
    {
     "data": {
      "image/png": "[encoded data removed]",
      "text/plain": [
       "<Figure size 432x288 with 2 Axes>"
      ]
     },
     "metadata": {
      "needs_background": "light"
     },
     "output_type": "display_data"
    }
   ],
   "source": [
    "# Extact learned SURGE latent contexts (ordered by PVE)\n",
    "U_learned = surge_obj.U_mu[:, context_order]\n",
    "# Filter out contexts with PVE < 1e-4\n",
    "context_pves = surge_obj.factor_pve[context_order]\n",
    "U_learned = U_learned[:, context_pves >= 1e-4]\n",
    "\n",
    "# Compute correlations\n",
    "K_sim = U_sim.shape[1]\n",
    "K_learned = U_learned.shape[1]\n",
    "corr_mat = np.zeros((K_sim, K_learned))\n",
    "\n",
    "for k_sim in range(K_sim):\n",
    "    for k_learned in range(K_learned):\n",
    "        corr_mat[k_sim, k_learned] = np.corrcoef(U_sim[:, k_sim], U_learned[:, k_learned])[0,1]\n",
    "\n",
    "sns.heatmap(np.abs(corr_mat));\n",
    "plt.xlabel('Learned SURGE latent contexts');\n",
    "plt.ylabel('Simulated SURGE latent contexts');\n"
   ]
  },
  {
   "cell_type": "markdown",
   "metadata": {},
   "source": [
    "As can be seen in the above heatmap, the learned SURGE latent contexts correlated with the simulated SURGE latent contexts. However, some of the simulated SURGE latent contexts are explained by multiple learned SURGE latent contexts. For example, simulated SURGE latent context 1 is correlated (nearly equally) with learned SURGE context 1 and 2. This result is unsuprising and is well-documented by dimensionality reduction theory: solutions are equivalent up to a rotation.\n",
    "\n",
    "Another way to view how well the learned SURGE latent contexts capture the simulated SURGE latent contexts is to ask of much of the variance in a simulated SURGE latent context is explained by all of the SURGE latent contexts:"
   ]
  },
  {
   "cell_type": "code",
   "execution_count": 38,
   "metadata": {},
   "outputs": [
    {
     "data": {
      "image/png": "[encoded data removed]",
      "text/plain": [
       "<Figure size 432x288 with 1 Axes>"
      ]
     },
     "metadata": {
      "needs_background": "light"
     },
     "output_type": "display_data"
    }
   ],
   "source": [
    "# Calculate R-squared in each simulated component\n",
    "r_squared = []\n",
    "for k_sim in range(K_sim):\n",
    "    reg = LinearRegression().fit(U_learned, U_sim[:,k_sim])\n",
    "    r_squared.append(reg.score(U_learned, U_sim[:,k_sim]))\n",
    "\n",
    "# Plot\n",
    "plt.plot(r_squared, '-ok');\n",
    "plt.xlabel('Simulated SURGE latent context');\n",
    "plt.ylabel('R^2');"
   ]
  },
  {
   "cell_type": "markdown",
   "metadata": {},
   "source": [
    "## Extract parameters from fitted SURGE object\n",
    "\n",
    "Now, we will go over some useful parameters to extract from the fitted SURGE object.\n"
   ]
  },
  {
   "cell_type": "markdown",
   "metadata": {},
   "source": [
    "### 1. Expected value of SURGE latent contexts.\n",
    "\n",
    "    This is a matrix of dimensions NXK where N is the number of samples and K is the number of latent contexts. An element of this matrix represents the estimated expected value of the SURGE latent context for a particular latent context for a particular sample.\n"
   ]
  },
  {
   "cell_type": "code",
   "execution_count": 45,
   "metadata": {
    "scrolled": true
   },
   "outputs": [
    {
     "name": "stdout",
     "output_type": "stream",
     "text": [
      "[[ 7.21713046e-02 -3.39548570e-01  4.54565936e-02 ...  1.60970616e-44\n",
      "  -2.37694134e-39 -6.37865469e-36]\n",
      " [ 4.16423892e-01  2.62823106e-01  6.57665245e-01 ...  2.26499691e-44\n",
      "  -2.40368880e-39 -6.09820568e-36]\n",
      " [-7.45568081e-03  2.73837121e-01  2.80211695e-01 ... -8.67375325e-44\n",
      "   4.30573902e-39 -6.92052068e-36]\n",
      " ...\n",
      " [-6.74711206e-02 -1.95070690e-01  4.53138742e-01 ...  8.74407045e-44\n",
      "  -5.13937546e-39  4.37618070e-36]\n",
      " [-3.33973984e-01 -4.46804384e-01 -2.48794191e-01 ...  6.47022517e-46\n",
      "  -1.07916392e-39 -3.03321405e-36]\n",
      " [-1.83613636e-01 -6.25296209e-02 -2.02194942e-01 ...  2.96737487e-44\n",
      "  -1.19062154e-39  2.47900570e-36]]\n"
     ]
    }
   ],
   "source": [
    "print(surge_obj.U_mu)"
   ]
  },
  {
   "cell_type": "markdown",
   "metadata": {},
   "source": [
    "### 2. Variance of SURGE latent contexts\n",
    "   \n",
    "    This a matrix of dimensions NXK where N is the number of samples and K is the number of latent contexts. An element of this matrix represents the estimated variance of the expected value of the SURGE latent contexts for a particular latent context for a particular sample.\n",
    "   "
   ]
  },
  {
   "cell_type": "code",
   "execution_count": 46,
   "metadata": {},
   "outputs": [
    {
     "name": "stdout",
     "output_type": "stream",
     "text": [
      "[[4.37046893e-04 5.03459476e-04 3.83465203e-04 ... 6.41695346e-05\n",
      "  6.41695457e-05 6.41696106e-05]\n",
      " [4.01446788e-04 4.06868165e-04 4.16806372e-04 ... 6.38538020e-05\n",
      "  6.38538130e-05 6.38538773e-05]\n",
      " [4.71028219e-04 4.16616503e-04 2.98092993e-04 ... 6.38654046e-05\n",
      "  6.38654156e-05 6.38654799e-05]\n",
      " ...\n",
      " [4.16402086e-04 4.12642665e-04 4.55328821e-04 ... 6.42176568e-05\n",
      "  6.42176679e-05 6.42177329e-05]\n",
      " [4.59551802e-04 4.07940036e-04 3.54331682e-04 ... 6.34603285e-05\n",
      "  6.34603394e-05 6.34604029e-05]\n",
      " [4.08314995e-04 4.32778832e-04 3.96238054e-04 ... 6.40392635e-05\n",
      "  6.40392746e-05 6.40393392e-05]]\n"
     ]
    }
   ],
   "source": [
    "print(surge_obj.U_var)"
   ]
  },
  {
   "cell_type": "markdown",
   "metadata": {},
   "source": [
    "### 3. ELBO\n",
    "   \n",
    "    This a vector of length number of variational iterations where each element represents that elbo at each iteration. Note, this vector is gauranteed to be monotonically increasing."
   ]
  },
  {
   "cell_type": "code",
   "execution_count": 47,
   "metadata": {},
   "outputs": [
    {
     "name": "stdout",
     "output_type": "stream",
     "text": [
      "[-129815003.44723517, -383227.7952060429, -353429.4088196554, -339588.4166107138, -338360.1559602637, -337780.05388799624, -332619.7354130237, -332295.8756769615, -332044.3797794478, -331835.90345591656, -331655.75803586433, -331491.1981388052, -331334.24883964896, -331182.61203489295, -331037.94583599456, -330901.9484316198, -330772.4094737088, -330643.58636874746, -330510.43806556106, -330371.0549323838, -330225.3389120355, -330074.36967323744, -329922.14899816137, -329775.33531808, -329639.33870649146, -329514.9940908966, -329399.8687615787, -329291.7352596342, -329190.25170060544, -329096.42293294665, -329011.5605574934, -328937.44773276965, -328875.9900838582, -328827.4128117815, -328789.83096854517, -328761.0050510714, -328739.26695496414, -328722.6686581497, -328708.8615688785, -328695.8724907758, -328682.4014495802, -328667.92442327546, -328653.088422794, -328639.6676217763, -328629.0956786356, -328621.1455859651, -328614.6136988612, -328608.39903226, -328601.69914870546, -328593.8864829365, -328584.59292523545, -328574.12169360864, -328563.8292008259, -328555.51566532784, -328549.9477889794, -328546.554879928, -328544.44933594496, -328543.0513517812, -328542.0649501193, -328541.3363148006, -328540.7772361043, -328540.33349613746, -328539.9705995964, -328539.6661520182, -328539.4053602126, -328539.1782650401, -328538.9780107324, -328538.79975306377, -328538.63996652747, -328538.49600250035, -328538.36580598075, -328538.247732818, -328538.1404307944, -328538.0427613887, -328537.953747553, -328537.87253819726, -328537.7983834782, -328537.73061713355, -328537.66864346835, -328537.61192745686, -328537.5599869779, -328537.51238654065, -328537.46873208595, -328537.4286665843, -328537.39186624397, -328537.35803720186, -328537.3269126059, -328537.29825002264, -328537.2718291218, -328537.2474495996, -328537.22492931056, -328537.20410258276, -328537.18481869675, -328537.1669405103, -328537.15034321323, -328537.13491320016, -328537.1205470487, -328537.1071505931, -328537.09463808354, -328537.082931424, -328537.0719594799, -328537.0616574496, -328537.05196629366]\n"
     ]
    }
   ],
   "source": [
    "print(surge_obj.elbo)"
   ]
  },
  {
   "cell_type": "markdown",
   "metadata": {},
   "source": [
    "### 3. Percent variance explained of each of the SURGE latent contexts\n",
    "   \n",
    "    This is a vector of length number of latent contexts. Each element of this vector represents the PVE (Based on bottom of P21 of https://arxiv.org/pdf/1802.06931.pdf) of each of the SURGE latent contexts. Generally we filter out contexts based on those we PVE < 1e-4."
   ]
  },
  {
   "cell_type": "code",
   "execution_count": 44,
   "metadata": {},
   "outputs": [
    {
     "name": "stdout",
     "output_type": "stream",
     "text": [
      "[5.98351492e-002 5.29998620e-002 6.31273058e-002 6.03825018e-002\n",
      " 6.57645904e-002 1.20653722e-195 3.77038347e-112 1.33085811e-170\n",
      " 1.74339646e-151 3.03774920e-138]\n"
     ]
    }
   ],
   "source": [
    "print(surge_obj.factor_pve)"
   ]
  },
  {
   "cell_type": "markdown",
   "metadata": {},
   "source": [
    "### 4. Expected value of latent context effect sizes\n",
    "   \n",
    "    This is a matrix of dimensions KXT where T is the number of eqtl tests and K is the number of latent contexts. An element of this matrix represents the estimated interaction effect size corresponding to the latent context and eqtl of the element."
   ]
  },
  {
   "cell_type": "code",
   "execution_count": 55,
   "metadata": {},
   "outputs": [
    {
     "name": "stdout",
     "output_type": "stream",
     "text": [
      "[[-1.67558235e+00 -1.53400700e-01 -1.39709555e-01 ... -2.53226483e-01\n",
      "   5.44171908e-01 -4.58333963e-01]\n",
      " [-2.41401911e+00  4.07373169e-01  2.92907960e-01 ...  5.95813039e-01\n",
      "  -1.65320564e+00 -1.13593041e-01]\n",
      " [-7.10088298e-01 -2.29041474e+00  9.04554108e-01 ...  6.46793479e-01\n",
      "  -2.46690645e-02 -6.00542975e-02]\n",
      " ...\n",
      " [-1.28714439e-42  2.76481563e-42  6.23354208e-43 ... -1.55256389e-42\n",
      "   2.64940653e-43  1.42275619e-42]\n",
      " [ 5.92645881e-38 -1.74256416e-37  1.07231015e-38 ...  5.21275872e-38\n",
      "  -4.09700808e-38 -9.71007248e-38]\n",
      " [-6.84698227e-35 -4.96554469e-35  3.51343734e-34 ... -3.32056739e-34\n",
      "  -1.00509084e-34 -7.65580262e-35]]\n"
     ]
    }
   ],
   "source": [
    "print(surge_obj.V_mu)"
   ]
  },
  {
   "cell_type": "markdown",
   "metadata": {},
   "source": [
    "### 5. Variance of latent context effect sizes\n",
    "   \n",
    "    This is a matrix of dimensions KXT where T is the number of eqtl tests and K is the number of latent contexts. An element of this matrix represents the estimated interaction effect size variance corresponding to the latent context and eqtl of the element."
   ]
  },
  {
   "cell_type": "code",
   "execution_count": 57,
   "metadata": {},
   "outputs": [
    {
     "name": "stdout",
     "output_type": "stream",
     "text": [
      "[[0.01964454 0.01453338 0.04982145 ... 0.03650294 0.04207156 0.05150303]\n",
      " [0.01919928 0.0197433  0.05299103 ... 0.04330937 0.05472064 0.06100446]\n",
      " [0.018876   0.01418781 0.04559708 ... 0.03178958 0.04495676 0.06007321]\n",
      " ...\n",
      " [0.95207509 0.94420966 0.98024938 ... 0.97271498 0.98042584 0.9836474 ]\n",
      " [0.95207508 0.94420965 0.98024938 ... 0.97271498 0.98042584 0.98364739]\n",
      " [0.95207503 0.9442096  0.98024936 ... 0.97271495 0.98042582 0.98364738]]\n"
     ]
    }
   ],
   "source": [
    "print(surge_obj.V_var)"
   ]
  },
  {
   "cell_type": "code",
   "execution_count": null,
   "metadata": {},
   "outputs": [],
   "source": []
  }
 ],
 "metadata": {
  "kernelspec": {
   "display_name": "Python 3",
   "language": "python",
   "name": "python3"
  },
  "language_info": {
   "codemirror_mode": {
    "name": "ipython",
    "version": 3
   },
   "file_extension": ".py",
   "mimetype": "text/x-python",
   "name": "python",
   "nbconvert_exporter": "python",
   "pygments_lexer": "ipython3",
   "version": "3.7.1"
  }
 },
 "nbformat": 4,
 "nbformat_minor": 2
}
