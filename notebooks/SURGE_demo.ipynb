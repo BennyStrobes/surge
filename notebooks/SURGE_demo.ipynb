{
 "cells": [
  {
   "cell_type": "markdown",
   "metadata": {},
   "source": [
    "# SURGE Demo\n",
    "\n",
    "Here, we simulate some data eQTL data (where the eQTL effect sizes change as function context) and assess SURGE's ability to re-capture the uknown contexts.\n",
    "\n",
    "This notebook should also provide an example of how SURGE can be easily run within python."
   ]
  },
  {
   "cell_type": "code",
   "execution_count": 1,
   "metadata": {},
   "outputs": [],
   "source": [
    "import numpy as np\n",
    "import surge.surge_inference\n",
    "import matplotlib.pyplot as plt\n",
    "import seaborn as sns\n",
    "from sklearn.linear_model import LinearRegression"
   ]
  },
  {
   "cell_type": "markdown",
   "metadata": {},
   "source": [
    "## Simulate some data\n",
    "\n",
    "To assess SURGE's ability to accurately capture contexts underlying context-specific eQTLs, we perform the following simulation experiment:\n",
    "\n",
    "We randomly generated genotype and expression matrices across $T$ variant-gene-pairs and $N$ RNA samples. For each simulated variant-gene pair, we simulated the genotype vector ($G$) across the $N$ samples according to the following probability distributions:\n",
    "\n",
    "$af_n \\sim Uniform(.1,.9)$\n",
    "\n",
    "$G_n \\sim Binomial(2, af_n)$\n",
    "\n",
    "Then we standardized genotype to have mean 0 and variance 1. We call the standardized genotype in the nth sample $G^*_n$\n",
    "\n",
    "Next, we simulated the expression vector (y) across the $N$ samples using the following probability distributions (conditional on the simulated standardized genotype):\n",
    "\n",
    "$y_n \\sim N(\\mu + \\beta G^*_n +\\sum_k G^*_n *U_{nk} V_k \\theta_k, 1)$\n",
    "\n",
    "$\\mu \\sim N(0,1)$\n",
    "\n",
    "$\\beta \\sim N(0,1)$\n",
    "\n",
    "$U_{nk} \\sim N(0,1)$\n",
    "\n",
    "$V_k \\sim N(0, \\gamma)$\n",
    "\n",
    "$\\theta_k \\sim Bernoulli(p)$\n",
    "\n",
    "\n",
    "\n",
    "This simulation, therefor, evaluates SURGE's ability to re-capture the simulated latent contexts (U) as a function of the simulation hyper-parameters:\n",
    "- The number of latent contexts (K; num_components)\n",
    "- The sample size (N; num_samples)\n",
    "- The strength of the interaction terms ($\\gamma$, t_statistic)\n",
    "- The fraction of tests that are context-specific eQTLs for a particular context ($p$; missingness_fraction)\n",
    "\n",
    "\n"
   ]
  },
  {
   "cell_type": "code",
   "execution_count": 2,
   "metadata": {},
   "outputs": [],
   "source": [
    "# Generate genotype vector for a particular snp\n",
    "def get_genotype_vec(num_samples, af):\n",
    "    allele1 = np.random.binomial(n=1, p=af,size=num_samples)\n",
    "    allele2 = np.random.binomial(n=1, p=af,size=num_samples)\n",
    "    genotype_vec = allele1 + allele2\n",
    "    return genotype_vec\n",
    "\n",
    "\n",
    "def standardize_variance_ratio_between_expression_and_genotype(Y, G):\n",
    "    num_tests = Y.shape[1]\n",
    "    for test_num in range(num_tests):\n",
    "        test_sdev = np.std(Y[:, test_num]/G[:,test_num])\n",
    "        G[:, test_num] = G[:, test_num]*test_sdev\n",
    "    G = G/np.std(G)\n",
    "    return G\n",
    "\n",
    "# Generate gene expression data (Y), and genotype data (G)\n",
    "def generate_eqtl_factorization_data_with_no_sample_repeat(num_samples, num_tests, num_components, t_statistic, missingness_fraction):\n",
    "    # Simulate genotype\n",
    "    G = np.zeros((num_samples, num_tests))\n",
    "    G_raw = np.zeros((num_samples, num_tests))\n",
    "    for test_num in range(num_tests):\n",
    "        af = np.random.uniform(.1,.9)\n",
    "        # Get genotype for this particular snp\n",
    "        genotype_vec = get_genotype_vec(num_samples, af)\n",
    "        G_raw[:, test_num] = genotype_vec\n",
    "        # Standardized genotype\n",
    "        G[:, test_num] = (genotype_vec - np.mean(genotype_vec))/np.std(genotype_vec)\n",
    "\n",
    "    # Simulate U\n",
    "    U = np.random.standard_normal(size=(num_samples, num_components))\n",
    "    for component_num in range(num_components):\n",
    "        U[:, component_num] = (U[:, component_num] - np.mean(U[:, component_num]))/np.std(U[:, component_num])\n",
    "    \n",
    "    # Simulate V\n",
    "    V = np.random.normal(loc=0.0, scale=t_statistic, size=(num_components, num_tests))\n",
    "    # Add missingness to V\n",
    "    for test_num in range(num_tests):\n",
    "        for component_num in range(num_components):\n",
    "            V[component_num, test_num] = V[component_num, test_num]*np.random.binomial(n=1,p=missingness_fraction)\n",
    "\n",
    "    # Get Expected expression value of each (sample, gene) pair\n",
    "    predicted_mean = np.zeros((num_samples, num_tests))  + G*np.dot(U,V)\n",
    "    # Simulate genotype fixed effect size\n",
    "    betas = []\n",
    "    Y = np.zeros((num_samples, num_tests))\n",
    "    for test_num in range(num_tests):\n",
    "        beta = np.random.normal(loc=0.0, scale=.1)\n",
    "        predicted_mean[:, test_num] = predicted_mean[:, test_num] + G[:, test_num]*beta\n",
    "        Y[:, test_num] = np.random.normal(predicted_mean[:,test_num])\n",
    "        betas.append(beta)\n",
    "    \n",
    "    # Standardized Y\n",
    "    for test_num in range(num_tests):\n",
    "        Y[:, test_num] = (Y[:, test_num] - np.mean(Y[:, test_num]))/np.std(Y[:, test_num])\n",
    "    \n",
    "    # Scale genotype vector for each test by the standard deviation of Y/G\n",
    "    # This scaling encourages the low-dimensional factorization (UV) to explain variance equally across tests\n",
    "    G = standardize_variance_ratio_between_expression_and_genotype(Y, G)\n",
    "    \n",
    "    return Y, G, np.asarray(betas), U, V\n"
   ]
  },
  {
   "cell_type": "code",
   "execution_count": 3,
   "metadata": {},
   "outputs": [],
   "source": [
    "# Simulation parameters\n",
    "num_samples = 250\n",
    "num_tests=1000\n",
    "t_statistic = .75\n",
    "missingness_fraction = .3\n",
    "simulated_factor = 5\n",
    "np.random.seed(2)\n",
    "\n",
    "# Simulate the data\n",
    "Y, G, betas, U_sim, V_sim = generate_eqtl_factorization_data_with_no_sample_repeat(num_samples, num_tests, simulated_factor, t_statistic, missingness_fraction)\n",
    "\n"
   ]
  },
  {
   "cell_type": "markdown",
   "metadata": {},
   "source": [
    "## Run SURGE\n",
    "\n",
    "At this point we have successfully simulated eQTL data. Notably we have generated an standardized expression matrix ($Y$) of dimension $N$X$T$ and we have generated a standardized genotype matrix ($G^*$) of dimension $N$X$T$. The $t^{th}$ column of $Y$ reflects the gene corresponding to the $t^{th}$ variant-gene pair. The $t^{th}$ column of $G$ reflects the variant corresponding to the $t^{th}$ variant-gene pair. Notably, each column of $Y$ has mean 0 and stardard deviation 1. Additionally, each column of $G$ has mean 0 and is scaled by the standard deviation of Y[:, t]/G[:, t]. This scaling encourages the low-dimensional factorization (UV) to explain variance equally across tests.\n",
    "\n",
    "Using this simulated data, we can run SURGE to re-discover the simulated contexts.\n",
    "\n",
    "It is important to note that this simulated expression was not affected by covariates nor was simulated expression affected by sample repeat structure . Therefore, we ran we ran SURGE:\n",
    "- We did not model the effects of covariates on gene expression in SURGE. However, covariates could be easily included by changing cov into a matrix that contains a column for each covariate (as well as column corresponding to the intercept). \n",
    "- We did not model the effects of sample repeat structure on gene expression in SURGE. However, sample repeat structure could easily be included by setting `re_boolean=True`, and by including `z=sample_repeat` as an arguement in `fit`. `sample_repeat` is a vector of length $N$ where each element is an integer corresponding to the individual that sample came from."
   ]
  },
  {
   "cell_type": "code",
   "execution_count": 4,
   "metadata": {},
   "outputs": [
    {
     "name": "stdout",
     "output_type": "stream",
     "text": [
      "*********************************************************\n",
      "SURGE\n",
      "Single cell Unsupervised Regulation of Gene Expression\n",
      "*********************************************************\n",
      "###############################\n",
      "Initialize variables\n",
      "###############################\n",
      "250 samples detected\n",
      "1000 tests detected\n",
      "10 latent factors detected\n",
      "###############################\n",
      "Begin Coordinate ascent variational inference (CAVI) iterative algorithm\n",
      "###############################\n",
      "Variational Inference iteration: 0\n",
      "delta ELBO: 129674150.70252755\n",
      "Variational Inference iteration: 1\n",
      "delta ELBO: 10254.893435208302\n",
      "Variational Inference iteration: 2\n",
      "delta ELBO: 10361.034078769677\n",
      "Variational Inference iteration: 3\n",
      "delta ELBO: 15470.044559486385\n",
      "Variational Inference iteration: 4\n",
      "delta ELBO: 11611.206279800623\n",
      "Variational Inference iteration: 5\n",
      "delta ELBO: 5047.356142696401\n",
      "Variational Inference iteration: 6\n",
      "delta ELBO: 1008.8867376417038\n",
      "Variational Inference iteration: 7\n",
      "delta ELBO: 539.8357458042447\n",
      "Variational Inference iteration: 8\n",
      "delta ELBO: 383.829210777767\n",
      "Variational Inference iteration: 9\n",
      "delta ELBO: 303.6326084063621\n",
      "Variational Inference iteration: 10\n",
      "delta ELBO: 253.88291971263243\n",
      "Variational Inference iteration: 11\n",
      "delta ELBO: 220.02055898768594\n",
      "Variational Inference iteration: 12\n",
      "delta ELBO: 195.66701056598686\n",
      "Variational Inference iteration: 13\n",
      "delta ELBO: 177.47954272676725\n",
      "Variational Inference iteration: 14\n",
      "delta ELBO: 163.50744771712925\n",
      "Variational Inference iteration: 15\n",
      "delta ELBO: 152.54612642363645\n",
      "Variational Inference iteration: 16\n",
      "delta ELBO: 143.8455118301208\n",
      "Variational Inference iteration: 17\n",
      "delta ELBO: 136.95241987943882\n",
      "Variational Inference iteration: 18\n",
      "delta ELBO: 131.60114719183184\n",
      "Variational Inference iteration: 19\n",
      "delta ELBO: 127.62554776843172\n",
      "Variational Inference iteration: 20\n",
      "delta ELBO: 124.89345004956704\n",
      "Variational Inference iteration: 21\n",
      "delta ELBO: 123.26776233920828\n",
      "Variational Inference iteration: 22\n",
      "delta ELBO: 122.58897448360221\n",
      "Variational Inference iteration: 23\n",
      "delta ELBO: 122.66718901117565\n",
      "Variational Inference iteration: 24\n",
      "delta ELBO: 123.27421515341848\n",
      "Variational Inference iteration: 25\n",
      "delta ELBO: 124.13534505944699\n",
      "Variational Inference iteration: 26\n",
      "delta ELBO: 124.93448041082593\n",
      "Variational Inference iteration: 27\n",
      "delta ELBO: 125.35866704920772\n",
      "Variational Inference iteration: 28\n",
      "delta ELBO: 125.19636576448102\n",
      "Variational Inference iteration: 29\n",
      "delta ELBO: 124.44590611482272\n",
      "Variational Inference iteration: 30\n",
      "delta ELBO: 123.3324482490425\n",
      "Variational Inference iteration: 31\n",
      "delta ELBO: 122.18674544960959\n",
      "Variational Inference iteration: 32\n",
      "delta ELBO: 121.2820447817212\n",
      "Variational Inference iteration: 33\n",
      "delta ELBO: 120.75415069778683\n",
      "Variational Inference iteration: 34\n",
      "delta ELBO: 120.61733005120186\n",
      "Variational Inference iteration: 35\n",
      "delta ELBO: 120.81262679788051\n",
      "Variational Inference iteration: 36\n",
      "delta ELBO: 121.24248016165802\n",
      "Variational Inference iteration: 37\n",
      "delta ELBO: 121.78642697434407\n",
      "Variational Inference iteration: 38\n",
      "delta ELBO: 122.31086935655912\n",
      "Variational Inference iteration: 39\n",
      "delta ELBO: 122.67957634397317\n",
      "Variational Inference iteration: 40\n",
      "delta ELBO: 122.7575457272469\n",
      "Variational Inference iteration: 41\n",
      "delta ELBO: 122.40645189746283\n",
      "Variational Inference iteration: 42\n",
      "delta ELBO: 121.51376542152138\n",
      "Variational Inference iteration: 43\n",
      "delta ELBO: 120.13200665207114\n",
      "Variational Inference iteration: 44\n",
      "delta ELBO: 118.69232202036073\n",
      "Variational Inference iteration: 45\n",
      "delta ELBO: 118.00400166609325\n",
      "Variational Inference iteration: 46\n",
      "delta ELBO: 118.84640690067317\n",
      "Variational Inference iteration: 47\n",
      "delta ELBO: 121.5555772666703\n",
      "Variational Inference iteration: 48\n",
      "delta ELBO: 126.03370147931855\n",
      "Variational Inference iteration: 49\n",
      "delta ELBO: 131.9495678964886\n",
      "Variational Inference iteration: 50\n",
      "delta ELBO: 138.80406207288615\n",
      "Variational Inference iteration: 51\n",
      "delta ELBO: 145.90264594898326\n",
      "Variational Inference iteration: 52\n",
      "delta ELBO: 152.37885966780595\n",
      "Variational Inference iteration: 53\n",
      "delta ELBO: 157.32447049184702\n",
      "Variational Inference iteration: 54\n",
      "delta ELBO: 160.016363181232\n",
      "Variational Inference iteration: 55\n",
      "delta ELBO: 160.16961211920716\n",
      "Variational Inference iteration: 56\n",
      "delta ELBO: 158.08690865512472\n",
      "Variational Inference iteration: 57\n",
      "delta ELBO: 154.58217419422\n",
      "Variational Inference iteration: 58\n",
      "delta ELBO: 150.61118679627543\n",
      "Variational Inference iteration: 59\n",
      "delta ELBO: 146.73188319813926\n",
      "Variational Inference iteration: 60\n",
      "delta ELBO: 142.96979304862907\n",
      "Variational Inference iteration: 61\n",
      "delta ELBO: 139.38233061187202\n",
      "Variational Inference iteration: 62\n",
      "delta ELBO: 136.28868624637835\n",
      "Variational Inference iteration: 63\n",
      "delta ELBO: 133.31546636903659\n",
      "Variational Inference iteration: 64\n",
      "delta ELBO: 128.13034958514618\n",
      "Variational Inference iteration: 65\n",
      "delta ELBO: 116.76528483524453\n",
      "Variational Inference iteration: 66\n",
      "delta ELBO: 97.56931670056656\n",
      "Variational Inference iteration: 67\n",
      "delta ELBO: 75.22252720576944\n",
      "Variational Inference iteration: 68\n",
      "delta ELBO: 56.45906165620545\n",
      "Variational Inference iteration: 69\n",
      "delta ELBO: 43.835820804641116\n",
      "Variational Inference iteration: 70\n",
      "delta ELBO: 36.13215019094059\n",
      "Variational Inference iteration: 71\n",
      "delta ELBO: 31.26569711987395\n",
      "Variational Inference iteration: 72\n",
      "delta ELBO: 27.77232325921068\n",
      "Variational Inference iteration: 73\n",
      "delta ELBO: 24.89526238711551\n",
      "Variational Inference iteration: 74\n",
      "delta ELBO: 22.306065940472763\n",
      "Variational Inference iteration: 75\n",
      "delta ELBO: 19.90038783143973\n",
      "Variational Inference iteration: 76\n",
      "delta ELBO: 17.68328057328472\n",
      "Variational Inference iteration: 77\n",
      "delta ELBO: 15.693692069267854\n",
      "Variational Inference iteration: 78\n",
      "delta ELBO: 13.957677371625323\n",
      "Variational Inference iteration: 79\n",
      "delta ELBO: 12.472513319924474\n",
      "Variational Inference iteration: 80\n",
      "delta ELBO: 11.212014486722182\n",
      "Variational Inference iteration: 81\n",
      "delta ELBO: 10.138378350355197\n",
      "Variational Inference iteration: 82\n",
      "delta ELBO: 9.212248169642407\n",
      "Variational Inference iteration: 83\n",
      "delta ELBO: 8.399582672747783\n",
      "Variational Inference iteration: 84\n",
      "delta ELBO: 7.675887097895611\n",
      "Variational Inference iteration: 85\n",
      "delta ELBO: 7.027200383134186\n",
      "Variational Inference iteration: 86\n",
      "delta ELBO: 6.44704621413257\n",
      "Variational Inference iteration: 87\n",
      "delta ELBO: 5.930812418926507\n",
      "Variational Inference iteration: 88\n",
      "delta ELBO: 5.471120986097958\n",
      "Variational Inference iteration: 89\n",
      "delta ELBO: 5.056858305993956\n",
      "Variational Inference iteration: 90\n",
      "delta ELBO: 4.675570200430229\n",
      "Variational Inference iteration: 91\n",
      "delta ELBO: 4.3168882394675165\n",
      "Variational Inference iteration: 92\n",
      "delta ELBO: 3.974758269963786\n",
      "Variational Inference iteration: 93\n",
      "delta ELBO: 3.6475648208288476\n",
      "Variational Inference iteration: 94\n",
      "delta ELBO: 3.336579008726403\n",
      "Variational Inference iteration: 95\n",
      "delta ELBO: 3.0438678617356345\n",
      "Variational Inference iteration: 96\n",
      "delta ELBO: 2.7707359040505253\n",
      "Variational Inference iteration: 97\n",
      "delta ELBO: 2.517172954045236\n",
      "Variational Inference iteration: 98\n",
      "delta ELBO: 2.282147061720025\n",
      "Variational Inference iteration: 99\n",
      "delta ELBO: 2.064272266754415\n",
      "Variational Inference iteration: 100\n",
      "delta ELBO: 1.8624178956379183\n",
      "Variational Inference iteration: 101\n",
      "delta ELBO: 1.6760229564388283\n",
      "Variational Inference iteration: 102\n",
      "delta ELBO: 1.5050735347904265\n",
      "Variational Inference iteration: 103\n",
      "delta ELBO: 1.349833138170652\n",
      "Variational Inference iteration: 104\n",
      "delta ELBO: 1.2104799859807827\n",
      "Variational Inference iteration: 105\n",
      "delta ELBO: 1.0868036974570714\n",
      "Variational Inference iteration: 106\n",
      "delta ELBO: 0.978057645377703\n",
      "Variational Inference iteration: 107\n",
      "delta ELBO: 0.8829830071190372\n",
      "Variational Inference iteration: 108\n",
      "delta ELBO: 0.7999556252034381\n",
      "Variational Inference iteration: 109\n",
      "delta ELBO: 0.7271814264240675\n",
      "Variational Inference iteration: 110\n",
      "delta ELBO: 0.6628779487800784\n",
      "Variational Inference iteration: 111\n",
      "delta ELBO: 0.6054087297525257\n",
      "Variational Inference iteration: 112\n",
      "delta ELBO: 0.5533642069785856\n",
      "Variational Inference iteration: 113\n",
      "delta ELBO: 0.5055980047327466\n",
      "Variational Inference iteration: 114\n",
      "delta ELBO: 0.46123158890986815\n",
      "Variational Inference iteration: 115\n",
      "delta ELBO: 0.4196382293011993\n",
      "Variational Inference iteration: 116\n"
     ]
    },
    {
     "name": "stdout",
     "output_type": "stream",
     "text": [
      "delta ELBO: 0.3804136166581884\n",
      "Variational Inference iteration: 117\n",
      "delta ELBO: 0.3433378523332067\n",
      "Variational Inference iteration: 118\n",
      "delta ELBO: 0.30833240028005093\n",
      "Variational Inference iteration: 119\n",
      "delta ELBO: 0.27541546389693394\n",
      "Variational Inference iteration: 120\n",
      "delta ELBO: 0.2446593426866457\n",
      "Variational Inference iteration: 121\n",
      "delta ELBO: 0.21615306590683758\n",
      "Variational Inference iteration: 122\n",
      "delta ELBO: 0.18997280503390357\n",
      "Variational Inference iteration: 123\n",
      "delta ELBO: 0.16616139363031834\n",
      "Variational Inference iteration: 124\n",
      "delta ELBO: 0.14471698814304546\n",
      "Variational Inference iteration: 125\n",
      "delta ELBO: 0.12558984250063077\n",
      "Variational Inference iteration: 126\n",
      "delta ELBO: 0.10868544230470434\n",
      "Variational Inference iteration: 127\n",
      "delta ELBO: 0.09387195395538583\n",
      "Variational Inference iteration: 128\n",
      "delta ELBO: 0.08098999026697129\n",
      "Variational Inference iteration: 129\n",
      "delta ELBO: 0.06986300408607349\n",
      "Variational Inference iteration: 130\n",
      "delta ELBO: 0.060307037085294724\n",
      "Variational Inference iteration: 131\n",
      "delta ELBO: 0.052139023202471435\n",
      "Variational Inference iteration: 132\n",
      "delta ELBO: 0.04518324777018279\n",
      "Variational Inference iteration: 133\n",
      "delta ELBO: 0.03927589824888855\n",
      "Variational Inference iteration: 134\n",
      "delta ELBO: 0.0342678603483364\n",
      "Variational Inference iteration: 135\n",
      "delta ELBO: 0.030026045453269035\n",
      "Variational Inference iteration: 136\n",
      "delta ELBO: 0.026433584396727383\n",
      "Variational Inference iteration: 137\n",
      "delta ELBO: 0.023389211273752153\n",
      "Variational Inference iteration: 138\n",
      "delta ELBO: 0.020806130953133106\n",
      "Variational Inference iteration: 139\n",
      "delta ELBO: 0.0186105968314223\n",
      "Variational Inference iteration: 140\n",
      "delta ELBO: 0.01674037758493796\n",
      "Variational Inference iteration: 141\n",
      "delta ELBO: 0.015143232012633234\n",
      "Variational Inference iteration: 142\n",
      "delta ELBO: 0.013775471423286945\n",
      "Variational Inference iteration: 143\n",
      "delta ELBO: 0.012600651534739882\n",
      "Variational Inference iteration: 144\n",
      "delta ELBO: 0.011588416527956724\n",
      "Variational Inference iteration: 145\n",
      "delta ELBO: 0.010713494848459959\n",
      "Variational Inference iteration: 146\n",
      "delta ELBO: 0.00995484268059954\n",
      "###############################\n",
      "SURGE converged after 147 iterations.\n",
      "###############################\n"
     ]
    }
   ],
   "source": [
    "# Covariate matrix is just an intercept as there are no simulated covariates\n",
    "cov = np.ones((num_samples, 1))\n",
    "\n",
    "# Create SURGE object (w/ no sample repeat structure): \n",
    "surge_obj = surge.surge_inference.SURGE_VI(K=10, re_boolean=False)\n",
    "surge_obj.fit(G=G, Y=Y, cov=cov)\n"
   ]
  },
  {
   "cell_type": "markdown",
   "metadata": {},
   "source": [
    "## Visualize learned SURGE latent contexts\n",
    "\n",
    "SURGE optimization has converged. We can now visualize the results. \n",
    "\n",
    "First, we can examine the ELBO over variational iterations."
   ]
  },
  {
   "cell_type": "code",
   "execution_count": 5,
   "metadata": {},
   "outputs": [
    {
     "data": {
      "image/png": "[encoded data removed]",
      "text/plain": [
       "<Figure size 432x288 with 1 Axes>"
      ]
     },
     "metadata": {
      "needs_background": "light"
     },
     "output_type": "display_data"
    }
   ],
   "source": [
    "# check to make sure ELBO is monotonically increasing (Note: ELBO is gauranteed to monotonically increase)\n",
    "plt.plot(surge_obj.elbo[1:]);  # Skipped first iteration in visualization b/c it is such a large change that it completely dominates the plot\n",
    "plt.xlabel('Iteration');\n",
    "plt.ylabel('ELBO');"
   ]
  },
  {
   "cell_type": "markdown",
   "metadata": {},
   "source": [
    "Plot PVE by each of SURGE latent contexts"
   ]
  },
  {
   "cell_type": "code",
   "execution_count": 6,
   "metadata": {},
   "outputs": [
    {
     "data": {
      "image/png": "[encoded data removed]",
      "text/plain": [
       "<Figure size 432x288 with 1 Axes>"
      ]
     },
     "metadata": {
      "needs_background": "light"
     },
     "output_type": "display_data"
    }
   ],
   "source": [
    "# Order SURGE contexts by PVE\n",
    "context_order = np.argsort(-surge_obj.factor_pve)\n",
    "# Plot PVE for each of latent contexts\n",
    "plt.plot(surge_obj.factor_pve[context_order], '-ok');\n",
    "plt.xlabel('Learned SURGE latent context');\n",
    "plt.ylabel('PVE');"
   ]
  },
  {
   "cell_type": "markdown",
   "metadata": {},
   "source": [
    "5 learned SURGE latent contenxts have non-zero PVE, whereas the other 5 SURGE latent contexts have approximately 0 PVE. This is expected given we simulated 5 latent contexts. \n",
    "\n",
    "Next, plot absolute correlation between learned SURGE latent contexts and simulated SURGE latent contexts. Here, we filter out non-informative learned latent contexts (ie those with PVE < 1e-4)."
   ]
  },
  {
   "cell_type": "code",
   "execution_count": 7,
   "metadata": {},
   "outputs": [
    {
     "data": {
      "image/png": "[encoded data removed]",
      "text/plain": [
       "<Figure size 432x288 with 2 Axes>"
      ]
     },
     "metadata": {
      "needs_background": "light"
     },
     "output_type": "display_data"
    }
   ],
   "source": [
    "# Extact learned SURGE latent contexts (ordered by PVE)\n",
    "U_learned = surge_obj.U_mu[:, context_order]\n",
    "# Filter out contexts with PVE < 1e-4\n",
    "context_pves = surge_obj.factor_pve[context_order]\n",
    "U_learned = U_learned[:, context_pves >= 1e-4]\n",
    "\n",
    "# Compute correlations\n",
    "K_sim = U_sim.shape[1]\n",
    "K_learned = U_learned.shape[1]\n",
    "corr_mat = np.zeros((K_sim, K_learned))\n",
    "\n",
    "for k_sim in range(K_sim):\n",
    "    for k_learned in range(K_learned):\n",
    "        corr_mat[k_sim, k_learned] = np.corrcoef(U_sim[:, k_sim], U_learned[:, k_learned])[0,1]\n",
    "\n",
    "sns.heatmap(np.abs(corr_mat));\n",
    "plt.xlabel('Learned SURGE latent contexts');\n",
    "plt.ylabel('Simulated SURGE latent contexts');\n"
   ]
  },
  {
   "cell_type": "markdown",
   "metadata": {},
   "source": [
    "As can be seen in the above heatmap, the learned SURGE latent contexts are well correlated with the simulated SURGE latent contexts. However, some of the simulated SURGE latent contexts are explained by multiple learned SURGE latent contexts. For example, learned SURGE latent context 1 is correlated (nearly equally) with simulated SURGE context 1 and 2. This result is unsuprising and is well-documented by dimensionality reduction theory: solutions are equivalent up to a rotation.\n",
    "\n",
    "Another way to view how well the learned SURGE latent contexts capture the simulated SURGE latent contexts is to ask of much of the variance in a simulated SURGE latent context is explained by all of the SURGE latent contexts:"
   ]
  },
  {
   "cell_type": "code",
   "execution_count": 8,
   "metadata": {},
   "outputs": [
    {
     "data": {
      "image/png": "[encoded data removed]",
      "text/plain": [
       "<Figure size 432x288 with 1 Axes>"
      ]
     },
     "metadata": {
      "needs_background": "light"
     },
     "output_type": "display_data"
    }
   ],
   "source": [
    "# Calculate R-squared in each simulated component\n",
    "r_squared = []\n",
    "for k_sim in range(K_sim):\n",
    "    reg = LinearRegression().fit(U_learned, U_sim[:,k_sim])\n",
    "    r_squared.append(reg.score(U_learned, U_sim[:,k_sim]))\n",
    "\n",
    "# Plot\n",
    "plt.plot(r_squared, '-ok');\n",
    "plt.xlabel('Simulated SURGE latent context');\n",
    "plt.ylabel('R^2');"
   ]
  },
  {
   "cell_type": "markdown",
   "metadata": {},
   "source": [
    "## Extract parameters from fitted SURGE object\n",
    "\n",
    "Now, we will go over some useful parameters to extract from the fitted SURGE object.\n"
   ]
  },
  {
   "cell_type": "markdown",
   "metadata": {},
   "source": [
    "### 1. Expected value of SURGE latent contexts.\n",
    "\n",
    "    This is a matrix of dimensions NXK where N is the number of samples and K is the number of latent contexts. An element of this matrix represents the estimated expected value of the SURGE latent context for a particular latent context for a particular sample.\n"
   ]
  },
  {
   "cell_type": "code",
   "execution_count": 9,
   "metadata": {
    "scrolled": true
   },
   "outputs": [
    {
     "name": "stdout",
     "output_type": "stream",
     "text": [
      "[[-8.47707424e-09  1.85572067e+00 -1.03326862e-05 ... -8.78900890e-01\n",
      "   3.33168757e-04 -5.41627016e-10]\n",
      " [ 6.90108277e-10 -1.50522561e+00  8.76478070e-07 ...  4.34855657e+00\n",
      "  -2.64753953e-05  4.22579079e-11]\n",
      " [-1.68638852e-08 -3.26298712e+00 -2.05112555e-05 ...  2.14034934e+00\n",
      "   6.65604177e-04 -1.08075292e-09]\n",
      " ...\n",
      " [ 2.17115571e-08 -1.18002339e+00  2.63501900e-05 ...  6.12476858e-02\n",
      "  -8.58364790e-04  1.39430151e-09]\n",
      " [-6.93433704e-09 -1.20508091e+00 -8.36874001e-06 ... -2.28059470e+00\n",
      "   2.76294535e-04 -4.48494390e-10]\n",
      " [-4.92870452e-09  1.18054738e+00 -5.84992785e-06 ... -2.14865827e+00\n",
      "   2.00092364e-04 -3.24555564e-10]]\n"
     ]
    }
   ],
   "source": [
    "print(surge_obj.U_mu)"
   ]
  },
  {
   "cell_type": "markdown",
   "metadata": {},
   "source": [
    "### 2. Variance of SURGE latent contexts\n",
    "   \n",
    "    This a matrix of dimensions NXK where N is the number of samples and K is the number of latent contexts. An element of this matrix represents the estimated variance of the expected value of the SURGE latent contexts for a particular latent context for a particular sample.\n",
    "   "
   ]
  },
  {
   "cell_type": "code",
   "execution_count": 10,
   "metadata": {},
   "outputs": [
    {
     "name": "stdout",
     "output_type": "stream",
     "text": [
      "[[0.00012336 0.0163614  0.00012385 ... 0.02286388 0.00012466 0.00012332]\n",
      " [0.00012131 0.01823407 0.00012179 ... 0.01785327 0.00012274 0.00012128]\n",
      " [0.00012228 0.01778127 0.00012277 ... 0.01911516 0.00012356 0.00012224]\n",
      " ...\n",
      " [0.0001215  0.01917622 0.00012198 ... 0.01876162 0.00012277 0.00012147]\n",
      " [0.00011833 0.01869752 0.0001188  ... 0.0182539  0.00011956 0.0001183 ]\n",
      " [0.00012087 0.02077863 0.00012135 ... 0.01742806 0.00012229 0.00012084]]\n"
     ]
    }
   ],
   "source": [
    "print(surge_obj.U_var)"
   ]
  },
  {
   "cell_type": "markdown",
   "metadata": {},
   "source": [
    "### 3. ELBO\n",
    "   \n",
    "    This a vector of length number of variational iterations where each element represents that elbo at each iteration. Note, this vector is gauranteed to be monotonically increasing."
   ]
  },
  {
   "cell_type": "code",
   "execution_count": 11,
   "metadata": {},
   "outputs": [
    {
     "name": "stdout",
     "output_type": "stream",
     "text": [
      "[-130065867.42018798, -391716.7176604255, -381461.8242252172, -371100.79014644754, -355630.74558696116, -344019.53930716054, -338972.18316446414, -337963.29642682243, -337423.4606810182, -337039.6314702404, -336735.99886183406, -336482.1159421214, -336262.09538313374, -336066.42837256775, -335888.948829841, -335725.44138212386, -335572.8952557002, -335429.0497438701, -335292.09732399066, -335160.4961767988, -335032.8706290304, -334907.97717898083, -334784.7094166416, -334662.120442158, -334539.45325314684, -334416.1790379934, -334292.043692934, -334167.10921252315, -334041.75054547394, -333916.55417970946, -333792.10827359464, -333668.7758253456, -333546.589079896, -333425.30703511427, -333304.5528844165, -333183.9355543653, -333063.1229275674, -332941.88044740574, -332820.0940204314, -332697.78315107484, -332575.10357473086, -332452.3460290036, -332329.93957710615, -332208.42581168463, -332088.29380503256, -331969.6014830122, -331851.5974813461, -331732.75107444543, -331611.19549717876, -331485.16179569945, -331353.21222780296, -331214.40816573007, -331068.5055197811, -330916.1266601133, -330758.80218962143, -330598.7858264402, -330438.616214321, -330280.52930566587, -330125.94713147165, -329975.3359446754, -329828.60406147724, -329685.6342684286, -329546.25193781673, -329409.96325157036, -329276.6477852013, -329148.5174356162, -329031.7521507809, -328934.18283408036, -328858.9603068746, -328802.5012452184, -328758.66542441375, -328722.5332742228, -328691.26757710293, -328663.4952538437, -328638.5999914566, -328616.29392551613, -328596.3935376847, -328578.7102571114, -328563.01656504214, -328549.0588876705, -328536.5863743506, -328525.37435986387, -328515.2359815135, -328506.02373334387, -328497.6241506711, -328489.9482635732, -328482.9210631901, -328476.47401697596, -328470.54320455703, -328465.07208357094, -328460.01522526494, -328455.3396550645, -328451.02276682504, -328447.0480085551, -328443.40044373425, -328440.0638647255, -328437.0199968638, -328434.24926095974, -328431.7320880057, -328429.449940944, -328427.3856686772, -328425.5232507816, -328423.84722782514, -328422.34215429035, -328420.9923211522, -328419.7818411662, -328418.69503746874, -328417.71697982337, -328416.83399681625, -328416.03404119104, -328415.3068597646, -328414.64398181584, -328414.0385730861, -328413.4852088791, -328412.9796108744, -328412.51837928547, -328412.09874105616, -328411.7183274395, -328411.3749895872, -328411.0666571869, -328410.791241723, -328410.5465823803, -328410.3304293144, -328410.14045650937, -328409.97429511574, -328409.8295781276, -328409.7039882851, -328409.5953028428, -328409.50143088883, -328409.42044089857, -328409.3505778945, -328409.2902708574, -328409.2381318342, -328409.1929485864, -328409.1536726882, -328409.1194048278, -328409.0893787824, -328409.062945198, -328409.0395559867, -328409.01874985575, -328409.0001392589, -328408.98339888133, -328408.9682556493, -328408.9544801779, -328408.94187952636, -328408.93029110983, -328408.919577615, -328408.9096227723]\n"
     ]
    }
   ],
   "source": [
    "print(surge_obj.elbo)"
   ]
  },
  {
   "cell_type": "markdown",
   "metadata": {},
   "source": [
    "### 3. Percent variance explained of each of the SURGE latent contexts\n",
    "   \n",
    "    This is a vector of length number of latent contexts. Each element of this vector represents the PVE (Based on bottom of P21 of https://arxiv.org/pdf/1802.06931.pdf) of each of the SURGE latent contexts. Generally we filter out contexts based on those we PVE < 1e-4."
   ]
  },
  {
   "cell_type": "code",
   "execution_count": 12,
   "metadata": {},
   "outputs": [
    {
     "name": "stdout",
     "output_type": "stream",
     "text": [
      "[3.88973550e-28 6.18306997e-02 8.41729359e-16 2.06336180e-10\n",
      " 5.80533633e-02 5.29893087e-02 6.99637906e-02 6.02658827e-02\n",
      " 9.29837165e-10 6.59221319e-33]\n"
     ]
    }
   ],
   "source": [
    "print(surge_obj.factor_pve)"
   ]
  },
  {
   "cell_type": "markdown",
   "metadata": {},
   "source": [
    "### 4. Expected value of latent context effect sizes\n",
    "   \n",
    "    This is a matrix of dimensions KXT where T is the number of eqtl tests and K is the number of latent contexts. An element of this matrix represents the estimated interaction effect size corresponding to the latent context and eqtl of the element."
   ]
  },
  {
   "cell_type": "code",
   "execution_count": 13,
   "metadata": {},
   "outputs": [
    {
     "name": "stdout",
     "output_type": "stream",
     "text": [
      "[[-6.18195739e-08  2.31387560e-08  3.94215015e-09 ...  9.04321043e-07\n",
      "   6.46215838e-08  5.76697209e-08]\n",
      " [ 7.37383199e-02  2.84043923e+00  5.32362474e-02 ... -4.53926089e-02\n",
      "   1.61752423e-01 -8.55186691e-03]\n",
      " [-7.50402675e-05  2.80889885e-05  4.82777068e-06 ...  1.10307143e-03\n",
      "   7.93228917e-05  6.86837710e-05]\n",
      " ...\n",
      " [-1.49099155e+00 -1.90254921e+00 -1.17582421e-01 ...  2.51407894e-02\n",
      "  -4.27695002e-02 -1.38730898e-01]\n",
      " [ 2.44595363e-03 -9.14003765e-04 -1.52660065e-04 ... -3.54722025e-02\n",
      "  -2.53099912e-03 -2.31084431e-03]\n",
      " [-3.97111636e-09  1.48541354e-09  2.49739201e-10 ...  5.77272360e-08\n",
      "   4.10289620e-09  3.77376230e-09]]\n"
     ]
    }
   ],
   "source": [
    "print(surge_obj.V_mu)"
   ]
  },
  {
   "cell_type": "markdown",
   "metadata": {},
   "source": [
    "### 5. Variance of latent context effect sizes\n",
    "   \n",
    "    This is a matrix of dimensions KXT where T is the number of eqtl tests and K is the number of latent contexts. An element of this matrix represents the estimated interaction effect size variance corresponding to the latent context and eqtl of the element."
   ]
  },
  {
   "cell_type": "code",
   "execution_count": 14,
   "metadata": {},
   "outputs": [
    {
     "name": "stdout",
     "output_type": "stream",
     "text": [
      "[[9.95046886e-01 9.98726600e-01 9.99380969e-01 ... 4.11659295e-01\n",
      "  9.58705212e-01 9.90882287e-01]\n",
      " [7.35249890e-03 3.17857910e-02 5.87326500e-02 ... 2.91814650e-05\n",
      "  9.21930142e-04 4.23672139e-03]\n",
      " [9.95027204e-01 9.98721521e-01 9.99378498e-01 ... 4.10694902e-01\n",
      "  9.58547084e-01 9.90846202e-01]\n",
      " ...\n",
      " [8.32491152e-03 2.51825104e-02 6.34549228e-02 ... 3.14408352e-05\n",
      "  9.46207382e-04 3.92945372e-03]\n",
      " [9.94988881e-01 9.98711412e-01 9.99373535e-01 ... 4.08769877e-01\n",
      "  9.58232404e-01 9.90773717e-01]\n",
      " [9.95048284e-01 9.98726961e-01 9.99381144e-01 ... 4.11727934e-01\n",
      "  9.58716441e-01 9.90884849e-01]]\n"
     ]
    }
   ],
   "source": [
    "print(surge_obj.V_var)"
   ]
  }
 ],
 "metadata": {
  "kernelspec": {
   "display_name": "Python 3 (ipykernel)",
   "language": "python",
   "name": "python3"
  },
  "language_info": {
   "codemirror_mode": {
    "name": "ipython",
    "version": 3
   },
   "file_extension": ".py",
   "mimetype": "text/x-python",
   "name": "python",
   "nbconvert_exporter": "python",
   "pygments_lexer": "ipython3",
   "version": "3.7.3"
  }
 },
 "nbformat": 4,
 "nbformat_minor": 2
}
